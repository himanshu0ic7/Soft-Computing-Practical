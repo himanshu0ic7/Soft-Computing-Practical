{
 "cells": [
  {
   "cell_type": "markdown",
   "metadata": {},
   "source": [
    "<h1><center>Experiment: 8</center></h1>"
   ]
  },
  {
   "cell_type": "markdown",
   "metadata": {},
   "source": [
    "# Aim:\n",
    "To implement and demonstrate various genetic algorithm operators, including crossover and mutation techniques."
   ]
  },
  {
   "cell_type": "markdown",
   "metadata": {},
   "source": [
    "# Theory :\n",
    "1. Crossover Operations:\n",
    "Single-point crossover: This operation splits two parent arrays at a single crossover point and swaps the segments to produce offspring.\n",
    "Multi-point crossover: It applies multiple crossover points, repeating the single-point crossover process at different positions.\n",
    "Uniform crossover: It uses a probability array to decide which genes to swap between the parents at each position.\n",
    "2. Mutation Operations:\n",
    "Scramble mutation: A random subset of genes is selected, and their order is scrambled.\n",
    "Inversion mutation: A subset of genes is selected, and their order is reversed, maintaining all the genes but in a different sequence."
   ]
  },
  {
   "cell_type": "markdown",
   "metadata": {
    "id": "Cbwbot3Py5QM"
   },
   "source": [
    "## CrossOver\n"
   ]
  },
  {
   "cell_type": "code",
   "execution_count": null,
   "metadata": {
    "colab": {
     "base_uri": "https://localhost:8080/"
    },
    "id": "Yo2JVukUwngU",
    "outputId": "c63b6059-15bd-418f-ba37-1c08ff2de939"
   },
   "outputs": [
    {
     "data": {
      "text/plain": [
       "(array([4, 8, 7, 4, 5, 2, 3, 5, 8, 7]), array([9, 8, 6, 5, 9, 2, 6, 9, 2, 3]))"
      ]
     },
     "execution_count": 1,
     "metadata": {},
     "output_type": "execute_result"
    }
   ],
   "source": [
    "import numpy as np\n",
    "\n",
    "def single_point_crossover(A, B, x):\n",
    "    A_new = np.append(A[:x], B[x:])\n",
    "    B_new = np.append(B[:x], A[x:])\n",
    "    return A_new, B_new\n",
    "\n",
    "A = np.array([4, 8, 6, 5, 9, 2, 6, 9, 2, 3])\n",
    "B = np.array([9, 8, 7, 4, 5, 2, 3, 5, 8, 7])\n",
    "x = 2\n",
    "single_point_crossover(A, B, x)"
   ]
  },
  {
   "cell_type": "code",
   "execution_count": null,
   "metadata": {
    "colab": {
     "base_uri": "https://localhost:8080/"
    },
    "id": "2WHd0Hy7yq4N",
    "outputId": "e0dbc1d4-3f2f-4aa3-ae7e-238d88377d8d"
   },
   "outputs": [
    {
     "data": {
      "text/plain": [
       "(array([4, 8, 7, 4, 5, 2, 3, 5, 8, 7]), array([9, 8, 6, 5, 9, 2, 6, 9, 2, 3]))"
      ]
     },
     "execution_count": 3,
     "metadata": {},
     "output_type": "execute_result"
    }
   ],
   "source": [
    "import numpy as np\n",
    "\n",
    "def multi_point_crossover(A, B, x):\n",
    "    for i in x:\n",
    "      A_new, B_new=single_point_crossover(A,B,i)\n",
    "    return A_new, B_new\n",
    "\n",
    "A = np.array([4, 8, 6, 5, 9, 2, 6, 9, 2, 3])\n",
    "B = np.array([9, 8, 7, 4, 5, 2, 3, 5, 8, 7])\n",
    "x = 2\n",
    "single_point_crossover(A, B, x)"
   ]
  },
  {
   "cell_type": "code",
   "execution_count": null,
   "metadata": {
    "colab": {
     "base_uri": "https://localhost:8080/"
    },
    "id": "3QRXb-GzyVgO",
    "outputId": "f02c56ce-2efe-4ba8-9e66-aeb946cb0c0a"
   },
   "outputs": [
    {
     "data": {
      "text/plain": [
       "(array([9, 8, 6, 4, 5, 2, 6, 5, 2, 7]), array([4, 8, 7, 5, 9, 2, 3, 9, 8, 3]))"
      ]
     },
     "execution_count": 2,
     "metadata": {},
     "output_type": "execute_result"
    }
   ],
   "source": [
    "import numpy as np\n",
    "\n",
    "def uniform_crossover(A, B, P):\n",
    "    for i in range(len(P)):\n",
    "        if P[i] < 0.5:\n",
    "            temp = A[i]\n",
    "            A[i] = B[i]\n",
    "            B[i] = temp\n",
    "    return A, B\n",
    "\n",
    "A = np.array([4, 8, 6, 5, 9, 2, 6, 9, 2, 3])\n",
    "B = np.array([9, 8, 7, 4, 5, 2, 3, 5, 8, 7])\n",
    "P = np.random.rand(10)\n",
    "uniform_crossover(A, B, P)"
   ]
  },
  {
   "cell_type": "markdown",
   "metadata": {
    "id": "UNaDQkAPy88R"
   },
   "source": [
    "##Mutation"
   ]
  },
  {
   "cell_type": "markdown",
   "metadata": {
    "id": "6KN8VIhkzj3g"
   },
   "source": [
    "1. Bit Flip Mutation\n",
    "\n",
    "In this mutation, we flip the values of selected genes (change 1 to 0 and vice versa)."
   ]
  },
  {
   "cell_type": "code",
   "execution_count": null,
   "metadata": {
    "colab": {
     "base_uri": "https://localhost:8080/"
    },
    "id": "Q2Nj2DUJyjqN",
    "outputId": "f288a466-f5bb-4820-8bbc-d90883a479ef"
   },
   "outputs": [
    {
     "name": "stdout",
     "output_type": "stream",
     "text": [
      "Before Bit Flip Mutation: [0, 1, 1, 0, 1, 0, 0, 1]\n",
      "After Bit Flip Mutation: [0, 1, 0, 0, 1, 1, 0, 1]\n"
     ]
    }
   ],
   "source": [
    "import random\n",
    "\n",
    "def bit_flip_mutation(chromosome, mutation_rate=0.1):\n",
    "    for i in range(len(chromosome)):\n",
    "        if random.random() < mutation_rate:  # Mutation probability\n",
    "            chromosome[i] = 1 - chromosome[i]  # Flip the bit (1 becomes 0, 0 becomes 1)\n",
    "    return chromosome\n",
    "\n",
    "# Example usage\n",
    "chromosome = [0, 1, 1, 0, 1, 0, 0, 1]\n",
    "print(\"Before Bit Flip Mutation:\", chromosome)\n",
    "print(\"After Bit Flip Mutation:\", bit_flip_mutation(chromosome.copy()))"
   ]
  },
  {
   "cell_type": "markdown",
   "metadata": {
    "id": "Nq22Xr9kzlbj"
   },
   "source": [
    "2. Random Resetting Mutation\n",
    "\n",
    "In this mutation, we replace the value of selected genes with random values from their respective ranges."
   ]
  },
  {
   "cell_type": "code",
   "execution_count": null,
   "metadata": {
    "colab": {
     "base_uri": "https://localhost:8080/"
    },
    "id": "EE8HgKlPzhdr",
    "outputId": "c0ece1be-82d8-4519-8993-33bf4ef1fc72"
   },
   "outputs": [
    {
     "name": "stdout",
     "output_type": "stream",
     "text": [
      "Before Random Resetting Mutation: [2, 4, 3, 6, 1, 5, 3]\n",
      "After Random Resetting Mutation: [6, 4, 3, 6, 1, 5, 5]\n"
     ]
    }
   ],
   "source": [
    "def random_resetting_mutation(chromosome, value_range, mutation_rate=0.1):\n",
    "    for i in range(len(chromosome)):\n",
    "        if random.random() < mutation_rate:\n",
    "            chromosome[i] = random.choice(value_range)  # Randomly reset to a value in the given range\n",
    "    return chromosome\n",
    "\n",
    "# Example usage\n",
    "chromosome = [2, 4, 3, 6, 1, 5, 3]\n",
    "value_range = [1, 2, 3, 4, 5, 6]\n",
    "print(\"Before Random Resetting Mutation:\", chromosome)\n",
    "print(\"After Random Resetting Mutation:\", random_resetting_mutation(chromosome.copy(), value_range))"
   ]
  },
  {
   "cell_type": "markdown",
   "metadata": {
    "id": "NI80ihLlz_DS"
   },
   "source": [
    "3. Swap Mutation\n",
    "\n",
    "In this mutation, two genes are randomly selected and their values are swapped."
   ]
  },
  {
   "cell_type": "code",
   "execution_count": null,
   "metadata": {
    "colab": {
     "base_uri": "https://localhost:8080/"
    },
    "id": "7WlGXhcPzzHF",
    "outputId": "9c517ade-32ff-48e3-e85d-d16d177ae6ca"
   },
   "outputs": [
    {
     "name": "stdout",
     "output_type": "stream",
     "text": [
      "Before Swap Mutation: [2, 4, 3, 6, 1, 5]\n",
      "After Swap Mutation: [2, 4, 6, 3, 1, 5]\n"
     ]
    }
   ],
   "source": [
    "def swap_mutation(chromosome):\n",
    "    i, j = random.sample(range(len(chromosome)), 2)  # Randomly select two different indices\n",
    "    chromosome[i], chromosome[j] = chromosome[j], chromosome[i]  # Swap their values\n",
    "    return chromosome\n",
    "\n",
    "# Example usage\n",
    "chromosome = [2, 4, 3, 6, 1, 5]\n",
    "print(\"Before Swap Mutation:\", chromosome)\n",
    "print(\"After Swap Mutation:\", swap_mutation(chromosome.copy()))"
   ]
  },
  {
   "cell_type": "markdown",
   "metadata": {
    "id": "Guszus5P0E5q"
   },
   "source": [
    "4. Scramble Mutation\n",
    "\n",
    "In this mutation, a subset of genes is randomly scrambled."
   ]
  },
  {
   "cell_type": "code",
   "execution_count": null,
   "metadata": {
    "colab": {
     "base_uri": "https://localhost:8080/"
    },
    "id": "QM5CHUrf0CHf",
    "outputId": "cd6a4f5d-a43c-405a-bc0c-36a2475ca82f"
   },
   "outputs": [
    {
     "name": "stdout",
     "output_type": "stream",
     "text": [
      "Before Scramble Mutation: [2, 4, 3, 6, 1, 5, 7]\n",
      "After Scramble Mutation: [2, 4, 3, 6, 1, 5, 7]\n"
     ]
    }
   ],
   "source": [
    "def scramble_mutation(chromosome):\n",
    "    start = random.randint(0, len(chromosome) - 1)\n",
    "    end = random.randint(start, len(chromosome))\n",
    "    subset = chromosome[start:end]\n",
    "    random.shuffle(subset)\n",
    "    chromosome[start:end] = subset  # Replace with scrambled version\n",
    "    return chromosome\n",
    "\n",
    "# Example usage\n",
    "chromosome = [2, 4, 3, 6, 1, 5, 7]\n",
    "print(\"Before Scramble Mutation:\", chromosome)\n",
    "print(\"After Scramble Mutation:\", scramble_mutation(chromosome.copy()))"
   ]
  },
  {
   "cell_type": "markdown",
   "metadata": {
    "id": "tDej58ec0Zr1"
   },
   "source": [
    "5. Inversion Mutation\n",
    "\n",
    "In this mutation, a subset of genes is selected and their order is reversed."
   ]
  },
  {
   "cell_type": "code",
   "execution_count": null,
   "metadata": {
    "colab": {
     "base_uri": "https://localhost:8080/"
    },
    "id": "49objzEa0Xds",
    "outputId": "2d858649-7f0a-4723-ecb4-46639422944b"
   },
   "outputs": [
    {
     "name": "stdout",
     "output_type": "stream",
     "text": [
      "Before Inversion Mutation: [2, 4, 3, 6, 1, 5, 7]\n",
      "After Inversion Mutation: [2, 4, 3, 6, 1, 5, 7]\n"
     ]
    }
   ],
   "source": [
    "def inversion_mutation(chromosome):\n",
    "    start = random.randint(0, len(chromosome) - 1)\n",
    "    end = random.randint(start, len(chromosome))\n",
    "    chromosome[start:end] = chromosome[start:end][::-1]  # Reverse the subset\n",
    "    return chromosome\n",
    "\n",
    "# Example usage\n",
    "chromosome = [2, 4, 3, 6, 1, 5, 7]\n",
    "print(\"Before Inversion Mutation:\", chromosome)\n",
    "print(\"After Inversion Mutation:\", inversion_mutation(chromosome.copy()))"
   ]
  }
 ],
 "metadata": {
  "colab": {
   "provenance": []
  },
  "kernelspec": {
   "display_name": "Python 3 (ipykernel)",
   "language": "python",
   "name": "python3"
  },
  "language_info": {
   "codemirror_mode": {
    "name": "ipython",
    "version": 3
   },
   "file_extension": ".py",
   "mimetype": "text/x-python",
   "name": "python",
   "nbconvert_exporter": "python",
   "pygments_lexer": "ipython3",
   "version": "3.11.3"
  }
 },
 "nbformat": 4,
 "nbformat_minor": 1
}
