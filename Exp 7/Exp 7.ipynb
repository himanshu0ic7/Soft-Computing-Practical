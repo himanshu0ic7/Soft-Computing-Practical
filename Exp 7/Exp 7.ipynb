{
 "cells": [
  {
   "cell_type": "markdown",
   "metadata": {
    "id": "s00iRIvdk2DX"
   },
   "source": [
    "# Aim: \n",
    "Solve the Knapsack problem"
   ]
  },
  {
   "cell_type": "markdown",
   "metadata": {},
   "source": [
    "# Theory:\n",
    "Without DP (Recursive): This version uses recursion to explore all possible combinations of items, checking if each item should be included or excluded from the knapsack. It returns the maximum value that can be achieved while respecting the weight limit.\n",
    "\n",
    "With DP (Dynamic Programming): The DP version improves efficiency by storing intermediate results in a 2D table, preventing redundant calculations. This reduces the time complexity significantly.\n",
    "\n",
    "In the context of genetic algorithms (GA):\n",
    "\n",
    "GA can solve the knapsack problem by representing each potential solution as a binary string (where 1 means including an item and 0 means excluding it).\n",
    "A fitness function evaluates solutions based on total value, considering weight constraints.\n",
    "The algorithm evolves solutions through selection, crossover, and mutation, iterating through generations to improve results until an optimal or satisfactory solution is found."
   ]
  },
  {
   "cell_type": "markdown",
   "metadata": {
    "id": "DR4w37exuO4J"
   },
   "source": [
    "## Without DP"
   ]
  },
  {
   "cell_type": "code",
   "execution_count": 1,
   "metadata": {
    "colab": {
     "base_uri": "https://localhost:8080/"
    },
    "executionInfo": {
     "elapsed": 570,
     "status": "ok",
     "timestamp": 1727929988488,
     "user": {
      "displayName": "Punisher",
      "userId": "05926598485535198845"
     },
     "user_tz": -330
    },
    "id": "yOArawnJm1CJ",
    "outputId": "8d0186ac-3977-4b49-d955-8544815ed97a"
   },
   "outputs": [
    {
     "name": "stdout",
     "output_type": "stream",
     "text": [
      "Maximum value that can be obtained: 130\n"
     ]
    }
   ],
   "source": [
    "def knapsack(max_capacity, weights, values, n,current_weight):\n",
    "  '''\n",
    "  n: No of items\n",
    "  max_capacity: Capacity of the knapsack\n",
    "  weights: List of weights of the items\n",
    "  values: List of values of the items\n",
    "  '''\n",
    "  if n==0 or current_weight==max_capacity:\n",
    "    return 0\n",
    "  # If the current item's weight is less than or equal to remaining capacity\n",
    "  if current_weight+weights[n-1]<=max_capacity:\n",
    "    include_item = values[n-1] + knapsack(max_capacity, weights, values, n-1, current_weight + weights[n-1])\n",
    "    exclude_item = knapsack(max_capacity, weights, values, n-1, current_weight)\n",
    "    return max(include_item, exclude_item)\n",
    "  else:\n",
    "    return knapsack(max_capacity, weights, values, n-1, current_weight)\n",
    "\n",
    "# Driver code\n",
    "max_capacity = 10\n",
    "values = [50, 40, 80, 10]\n",
    "weights = [3, 4, 6, 2]\n",
    "n = len(values)\n",
    "print(\"Maximum value that can be obtained:\", knapsack(max_capacity, weights, values, n,0))"
   ]
  },
  {
   "cell_type": "markdown",
   "metadata": {
    "id": "T-GDzcpWuSP5"
   },
   "source": [
    "# With DP"
   ]
  },
  {
   "cell_type": "code",
   "execution_count": 2,
   "metadata": {
    "colab": {
     "base_uri": "https://localhost:8080/"
    },
    "executionInfo": {
     "elapsed": 845,
     "status": "ok",
     "timestamp": 1727933332813,
     "user": {
      "displayName": "Punisher",
      "userId": "05926598485535198845"
     },
     "user_tz": -330
    },
    "id": "dN1Pt03Vn0Qr",
    "outputId": "bd17c297-0ba3-41dd-9dcb-e018738d5a7a"
   },
   "outputs": [
    {
     "name": "stdout",
     "output_type": "stream",
     "text": [
      "Maximum value that can be obtained: 130\n"
     ]
    }
   ],
   "source": [
    "dp=[[0 for x in range(max_capacity + 1)] for x in range(n + 1)]#since 2 values in the recursion are changing n and current_weight hence 2D recursion\n",
    "def knapsack(max_capacity, weights, values, n,current_weight):\n",
    "  '''\n",
    "  n: No of items\n",
    "  max_capacity: Capacity of the knapsack\n",
    "  weights: List of weights of the items\n",
    "  values: List of values of the items\n",
    "  '''\n",
    "  if n==0 or current_weight==max_capacity:\n",
    "    return 0\n",
    "  if dp[n][current_weight]!=0:\n",
    "    return dp[n][current_weight]\n",
    "  # If the current item's weight is less than or equal to remaining capacity\n",
    "  if current_weight+weights[n-1]<=max_capacity:\n",
    "    include_item = values[n-1] + knapsack(max_capacity, weights, values, n-1, current_weight + weights[n-1])\n",
    "    exclude_item = knapsack(max_capacity, weights, values, n-1, current_weight)\n",
    "    dp[n][current_weight]= max(include_item, exclude_item)\n",
    "    return dp[n][current_weight]\n",
    "  else:\n",
    "    dp[n][current_weight]= knapsack(max_capacity, weights, values, n-1, current_weight)\n",
    "    return dp[n][current_weight]\n",
    "\n",
    "# Driver code\n",
    "max_capacity = 10\n",
    "values = [50, 40, 80, 10]\n",
    "weights = [3, 4, 6, 2]\n",
    "n = len(values)\n",
    "print(\"Maximum value that can be obtained:\", knapsack(max_capacity, weights, values, n,0))"
   ]
  },
  {
   "cell_type": "code",
   "execution_count": null,
   "metadata": {
    "id": "5nRCehUv0eJM"
   },
   "outputs": [],
   "source": []
  }
 ],
 "metadata": {
  "colab": {
   "authorship_tag": "ABX9TyOkf0BlGAZJCDJDOjdKVgmc",
   "provenance": []
  },
  "kernelspec": {
   "display_name": "Python 3 (ipykernel)",
   "language": "python",
   "name": "python3"
  },
  "language_info": {
   "codemirror_mode": {
    "name": "ipython",
    "version": 3
   },
   "file_extension": ".py",
   "mimetype": "text/x-python",
   "name": "python",
   "nbconvert_exporter": "python",
   "pygments_lexer": "ipython3",
   "version": "3.11.3"
  }
 },
 "nbformat": 4,
 "nbformat_minor": 1
}
