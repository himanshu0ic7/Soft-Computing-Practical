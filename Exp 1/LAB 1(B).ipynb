{
 "cells": [
  {
   "cell_type": "markdown",
   "metadata": {},
   "source": [
    "<h1><center> <b>LAB- 1(B)</b></h1>"
   ]
  },
  {
   "cell_type": "markdown",
   "metadata": {
    "id": "sSrkOCG0WvU6"
   },
   "source": [
    "## Aim: To perform Max-Min composition and Max-Product on given two fuzzy sets\n",
    "\n",
    "## Theory:\n",
    "Max-Min Composition: For two fuzzy relations R and S, the Max-Min composition is calculated by taking the maximum of the minimum values from each corresponding pair:\n",
    "\n",
    "(R ∘ S)ij = max_k min(Rik, Skj)\n",
    "\n",
    "\n",
    "Max-Product Composition: This operation calculates the maximum of the product of the corresponding elements from the relations R and S:\n",
    "\n",
    "(R ⋅ S)ij = max_k (Rik ⋅ Skj)"
   ]
  },
  {
   "cell_type": "code",
   "execution_count": null,
   "metadata": {
    "id": "ERqdeADMSACl"
   },
   "outputs": [],
   "source": [
    "import numpy as np\n",
    "\n",
    "class Relation:\n",
    "    def __init__(self):\n",
    "        self.row = int(input(\"Enter the no. of rows: \"))\n",
    "        self.col = int(input(\"Enter the no. of columns: \"))\n",
    "        self.relation = np.empty((self.row, self.col))\n",
    "\n",
    "        print(\"Enter the elements: \")\n",
    "        for i in range(self.row):\n",
    "            self.temp = input(\"Enter the row(Space Seperated): \").split(' ')\n",
    "            self.relation[i] = [float(j) for j in self.temp]\n",
    "        print()\n",
    "\n",
    "    def __repr__(self):\n",
    "        print(\"Printing the elements: \")\n",
    "        for row in self.relation:\n",
    "            for element in row:\n",
    "                print(element, end=\" \")\n",
    "            print()\n",
    "        return \"\"\n",
    "\n",
    "    def is_compatible(self, R):\n",
    "        return self.relation.shape[1] == R.relation.shape[0]\n",
    "\n",
    "    def min_max(self, R):\n",
    "        if not self.is_compatible(R):\n",
    "            print(\"Operation is not compatible\")\n",
    "            return None\n",
    "\n",
    "        result = np.zeros((self.row, R.col))\n",
    "        for i in range(self.row):\n",
    "            for j in range(R.col):\n",
    "                max_val = 0\n",
    "                for k in range(self.col):\n",
    "                    max_val = max(max_val, min(self.relation[i][k], R.relation[k][j]))\n",
    "                result[i][j] = max_val\n",
    "        return result\n",
    "    def max_product(self, R):\n",
    "        if not self.is_compatible(R):\n",
    "            print(\"Operation is not compatible\")\n",
    "            return None\n",
    "\n",
    "        result = np.zeros((self.row, R.col))\n",
    "        for i in range(self.row):\n",
    "            for j in range(R.col):\n",
    "                val = 0\n",
    "                for k in range(self.col):\n",
    "                    val = max(val,self.relation[i][k]* R.relation[k][j])\n",
    "                result[i][j] = val\n",
    "        return result"
   ]
  },
  {
   "cell_type": "code",
   "execution_count": null,
   "metadata": {
    "colab": {
     "base_uri": "https://localhost:8080/"
    },
    "executionInfo": {
     "elapsed": 34011,
     "status": "ok",
     "timestamp": 1721884856585,
     "user": {
      "displayName": "Punisher",
      "userId": "05926598485535198845"
     },
     "user_tz": -330
    },
    "id": "GtpNojl8LalI",
    "outputId": "e2386258-b00f-418e-a34f-0956f227fdbd"
   },
   "outputs": [
    {
     "name": "stdout",
     "output_type": "stream",
     "text": [
      "For relation R: \n",
      "Enter the no. of rows: 2\n",
      "Enter the no. of columns: 2\n",
      "Enter the elements: \n",
      "Enter the row(Space Seperated): 0.6 0.3\n",
      "Enter the row(Space Seperated): 0.2 0.9\n",
      "\n",
      "For relation S: \n",
      "Enter the no. of rows: 2\n",
      "Enter the no. of columns: 3\n",
      "Enter the elements: \n",
      "Enter the row(Space Seperated): 1 0.5 0.3\n",
      "Enter the row(Space Seperated): 0.8 0.4 0.7\n",
      "\n",
      "Printing the elements: \n",
      "0.6 0.3 \n",
      "0.2 0.9 \n",
      "\n",
      "Printing the elements: \n",
      "1.0 0.5 0.3 \n",
      "0.8 0.4 0.7 \n",
      "\n",
      "MIN_MAX product is: \n",
      "[[0.6 0.5 0.3]\n",
      " [0.8 0.4 0.7]]\n",
      "MAX product is: \n",
      "[[0.6  0.3  0.21]\n",
      " [0.72 0.36 0.63]]\n"
     ]
    }
   ],
   "source": [
    "print(\"For relation R: \")\n",
    "R=Relation()\n",
    "print(\"For relation S: \")\n",
    "S=Relation()\n",
    "print(R)\n",
    "print(S)\n",
    "print(\"MIN_MAX product is: \")\n",
    "print(R.min_max(S))\n",
    "print(\"MAX product is: \")\n",
    "print(R.max_product(S))"
   ]
  }
 ],
 "metadata": {
  "colab": {
   "authorship_tag": "ABX9TyNSP2ksbk1JbfuGiRGUzhE1",
   "provenance": []
  },
  "kernelspec": {
   "display_name": "Python 3 (ipykernel)",
   "language": "python",
   "name": "python3"
  },
  "language_info": {
   "codemirror_mode": {
    "name": "ipython",
    "version": 3
   },
   "file_extension": ".py",
   "mimetype": "text/x-python",
   "name": "python",
   "nbconvert_exporter": "python",
   "pygments_lexer": "ipython3",
   "version": "3.11.3"
  }
 },
 "nbformat": 4,
 "nbformat_minor": 1
}
