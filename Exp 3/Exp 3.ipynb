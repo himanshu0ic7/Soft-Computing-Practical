{
 "cells": [
  {
   "cell_type": "markdown",
   "metadata": {},
   "source": [
    "<h1><center> <b>LAB- 3</b></h1>"
   ]
  },
  {
   "cell_type": "markdown",
   "metadata": {
    "id": "wcmAUZnnEzus"
   },
   "source": [
    "## Aim: To perform basic operations on numpy arrays & matrices\n",
    "## Theory:\n",
    "\n",
    "In this experiment, we explore various operations that can be performed using the NumPy library in Python. NumPy is a powerful library for numerical computations in Python, which supports operations on large, multi-dimensional arrays and matrices, along with a collection of mathematical functions to operate on these arrays.\n",
    "\n",
    "The following operations are covered in this experiment:\n",
    "1. Creation of arrays:\n",
    "   - Using `np.zeros()` to create arrays of zeros.\n",
    "   - Using `np.random.random_sample()` and `np.random.rand()` to generate arrays with random values.\n",
    "   - Creating arrays using `np.array()` and `np.arange()`.\n",
    "\n",
    "2. Array indexing and slicing:\n",
    "   - Accessing elements in one-dimensional arrays.\n",
    "   - Using slicing to access a range of elements in arrays.\n",
    "   - Handling index errors.\n",
    "\n",
    "3. Element-wise operations:\n",
    "   - Performing arithmetic operations on arrays (addition, multiplication, etc.).\n",
    "   - Using built-in NumPy functions such as `np.sum()` and `np.mean()` to compute array properties.\n",
    "\n",
    "4. Matrix operations:\n",
    "   - Reshaping arrays with `np.reshape()`.\n",
    "   - Dot product calculations using `np.dot()`.\n",
    "\n",
    "5. Performance comparison:\n",
    "   - Comparing the execution time of vectorized operations vs. using loops for large arrays.\n"
   ]
  },
  {
   "cell_type": "code",
   "execution_count": null,
   "metadata": {
    "colab": {
     "base_uri": "https://localhost:8080/"
    },
    "executionInfo": {
     "elapsed": 419,
     "status": "ok",
     "timestamp": 1727322918401,
     "user": {
      "displayName": "Punisher",
      "userId": "05926598485535198845"
     },
     "user_tz": -330
    },
    "id": "ecK8ATL49vhz",
    "outputId": "d35c5796-bc6c-4b03-f5e5-008a0c2c9643"
   },
   "outputs": [
    {
     "name": "stdout",
     "output_type": "stream",
     "text": [
      "np.zeros(4) :   a = [0. 0. 0. 0.], a shape = (4,), a data type = float64\n",
      "np.zeros(4,) :  a = [0. 0. 0. 0.], a shape = (4,), a data type = float64\n",
      "np.random.random_sample(4): a = [0.24380756 0.67099774 0.44979879 0.75570615], a shape = (4,), a data type = float64\n"
     ]
    }
   ],
   "source": [
    "import numpy as np\n",
    "import time\n",
    "a=np.zeros(4)\n",
    "print(f\"np.zeros(4) :   a = {a}, a shape = {a.shape}, a data type = {a.dtype}\")\n",
    "a = np.zeros((4,))\n",
    "print(f\"np.zeros(4,) :  a = {a}, a shape = {a.shape}, a data type = {a.dtype}\")\n",
    "a = np.random.random_sample(4)\n",
    "print(f\"np.random.random_sample(4): a = {a}, a shape = {a.shape}, a data type = {a.dtype}\")"
   ]
  },
  {
   "cell_type": "code",
   "execution_count": null,
   "metadata": {
    "colab": {
     "base_uri": "https://localhost:8080/"
    },
    "executionInfo": {
     "elapsed": 439,
     "status": "ok",
     "timestamp": 1727323415112,
     "user": {
      "displayName": "Punisher",
      "userId": "05926598485535198845"
     },
     "user_tz": -330
    },
    "id": "WepDtwOV-krH",
    "outputId": "581bfbbe-09d8-4881-f307-ff9b57332488"
   },
   "outputs": [
    {
     "name": "stdout",
     "output_type": "stream",
     "text": [
      "np.arange(4.):a = [0. 1. 2. 3.], a shape = (4,), a data type = float64\n",
      "np.random.rand(4): a = [0.04997798 0.77390955 0.93782363 0.5792328 ], a shape = (4,), a data type = float64\n"
     ]
    }
   ],
   "source": [
    "a=np.arange(4.)\n",
    "print(f\"np.arange(4.):a = {a}, a shape = {a.shape}, a data type = {a.dtype}\")\n",
    "a = np.random.rand(4)\n",
    "print(f\"np.random.rand(4): a = {a}, a shape = {a.shape}, a data type = {a.dtype}\")"
   ]
  },
  {
   "cell_type": "code",
   "execution_count": null,
   "metadata": {
    "colab": {
     "base_uri": "https://localhost:8080/"
    },
    "executionInfo": {
     "elapsed": 421,
     "status": "ok",
     "timestamp": 1727323271917,
     "user": {
      "displayName": "Punisher",
      "userId": "05926598485535198845"
     },
     "user_tz": -330
    },
    "id": "79zPcp0t-5Qo",
    "outputId": "0c167857-7bed-4bf9-ee0c-222c271a0b45"
   },
   "outputs": [
    {
     "name": "stdout",
     "output_type": "stream",
     "text": [
      "np.array([5,4,3,2]):  a = [5 4 3 2],     a shape = (4,), a data type = int64\n",
      "np.array([5.,4,3,2]): a = [5. 4. 3. 2.], a shape = (4,), a data type = float64\n"
     ]
    }
   ],
   "source": [
    "a = np.array([5,4,3,2])\n",
    "print(f\"np.array([5,4,3,2]):  a = {a},     a shape = {a.shape}, a data type = {a.dtype}\")\n",
    "a = np.array([5.,4,3,2])\n",
    "print(f\"np.array([5.,4,3,2]): a = {a}, a shape = {a.shape}, a data type = {a.dtype}\")"
   ]
  },
  {
   "cell_type": "code",
   "execution_count": null,
   "metadata": {
    "colab": {
     "base_uri": "https://localhost:8080/"
    },
    "executionInfo": {
     "elapsed": 440,
     "status": "ok",
     "timestamp": 1727323261504,
     "user": {
      "displayName": "Punisher",
      "userId": "05926598485535198845"
     },
     "user_tz": -330
    },
    "id": "puSbJvqL_Db9",
    "outputId": "f79c1740-0674-49dd-ec6e-2c59e7a67514"
   },
   "outputs": [
    {
     "name": "stdout",
     "output_type": "stream",
     "text": [
      "[0 1 2 3 4 5 6 7 8 9]\n"
     ]
    }
   ],
   "source": [
    "a = np.arange(10)\n",
    "print(a)"
   ]
  },
  {
   "cell_type": "code",
   "execution_count": null,
   "metadata": {
    "colab": {
     "base_uri": "https://localhost:8080/"
    },
    "executionInfo": {
     "elapsed": 404,
     "status": "ok",
     "timestamp": 1727323281335,
     "user": {
      "displayName": "Punisher",
      "userId": "05926598485535198845"
     },
     "user_tz": -330
    },
    "id": "ts_ZvWCi_JNZ",
    "outputId": "8f1d6e56-8448-4580-fb26-be3dc8d73751"
   },
   "outputs": [
    {
     "name": "stdout",
     "output_type": "stream",
     "text": [
      "a[2] = 3.0\n"
     ]
    }
   ],
   "source": [
    "print(f\"a[2] = {a[2]}\") # Accessing an element from an array"
   ]
  },
  {
   "cell_type": "code",
   "execution_count": null,
   "metadata": {
    "colab": {
     "base_uri": "https://localhost:8080/"
    },
    "executionInfo": {
     "elapsed": 4,
     "status": "ok",
     "timestamp": 1727323282955,
     "user": {
      "displayName": "Punisher",
      "userId": "05926598485535198845"
     },
     "user_tz": -330
    },
    "id": "qjjDld4O_P8R",
    "outputId": "215d1bf8-387d-4fb6-c17c-ae40c329e2df"
   },
   "outputs": [
    {
     "name": "stdout",
     "output_type": "stream",
     "text": [
      "a[-1] = 2.0\n"
     ]
    }
   ],
   "source": [
    "print(f\"a[-1] = {a[-1]}\")"
   ]
  },
  {
   "cell_type": "code",
   "execution_count": null,
   "metadata": {
    "colab": {
     "base_uri": "https://localhost:8080/"
    },
    "executionInfo": {
     "elapsed": 390,
     "status": "ok",
     "timestamp": 1727323545963,
     "user": {
      "displayName": "Punisher",
      "userId": "05926598485535198845"
     },
     "user_tz": -330
    },
    "id": "KT4ECEIb_Zaq",
    "outputId": "85f6e206-0c52-4cc3-8807-4f21d798a300"
   },
   "outputs": [
    {
     "name": "stdout",
     "output_type": "stream",
     "text": [
      "The error message you'll see is:\n",
      "index 10 is out of bounds for axis 0 with size 4\n"
     ]
    }
   ],
   "source": [
    "try:\n",
    "  c = a[10]\n",
    "except Exception as e:\n",
    "  print(\"The error message you'll see is:\")\n",
    "  print(e)"
   ]
  },
  {
   "cell_type": "code",
   "execution_count": null,
   "metadata": {
    "colab": {
     "base_uri": "https://localhost:8080/"
    },
    "executionInfo": {
     "elapsed": 391,
     "status": "ok",
     "timestamp": 1727323300605,
     "user": {
      "displayName": "Punisher",
      "userId": "05926598485535198845"
     },
     "user_tz": -330
    },
    "id": "4xZ58OXPANhP",
    "outputId": "64f72b43-55b1-418d-da79-5554294eec0d"
   },
   "outputs": [
    {
     "name": "stdout",
     "output_type": "stream",
     "text": [
      "a = [0 1 2 3 4 5 6 7 8 9]\n",
      "a[2:7:1] =  [2 3 4 5 6]\n",
      "a[2:7:2] =  [2 4 6]\n",
      "a[3:] =  [3 4 5 6 7 8 9]\n",
      "a[:3] =  [0 1 2]\n",
      "a[:] =  [0 1 2 3 4 5 6 7 8 9]\n"
     ]
    }
   ],
   "source": [
    "a = np.arange(10); print(f\"a = {a}\")\n",
    "#access 5 consecutive elements (start:stop:step)\n",
    "c = a[2:7:1]; print(\"a[2:7:1] = \", c)\n",
    "# access 3 elements separated by two\n",
    "c = a[2:7:2];print(\"a[2:7:2] = \", c)\n",
    "# access all elements index 3 and above\n",
    "c = a[3:];print(\"a[3:] = \", c)\n",
    "# access all elements below index 3\n",
    "c = a[:3];print(\"a[:3] = \", c)\n",
    "# access all elements\n",
    "c = a[:];print(\"a[:] = \", c)"
   ]
  },
  {
   "cell_type": "code",
   "execution_count": null,
   "metadata": {
    "colab": {
     "base_uri": "https://localhost:8080/"
    },
    "executionInfo": {
     "elapsed": 407,
     "status": "ok",
     "timestamp": 1727323305519,
     "user": {
      "displayName": "Punisher",
      "userId": "05926598485535198845"
     },
     "user_tz": -330
    },
    "id": "nUpHO4beBKli",
    "outputId": "91fff153-3a15-4c58-e48d-26ce767f1f75"
   },
   "outputs": [
    {
     "name": "stdout",
     "output_type": "stream",
     "text": [
      "a : [1 2 3 4]\n",
      "b = -a : [-1 -2 -3 -4]\n",
      "b = np.sum(a) : 10\n",
      "b = np.mean(a): 2.5\n",
      "b = a**2 : [ 1  4  9 16]\n"
     ]
    }
   ],
   "source": [
    "a\t= np.array([1,2,3,4])\n",
    "print(f\"a : {a}\") # negate elements of a\n",
    "b = -a; print(f\"b = -a : {b}\")\n",
    "# sum all elements of a, returns a scalar\n",
    "b = np.sum(a)\n",
    "print(f\"b = np.sum(a) : {b}\")\n",
    "b\t= np.mean(a)\n",
    "print(f\"b = np.mean(a): {b}\")\n",
    "b = a**2\n",
    "print(f\"b = a**2 : {b}\")"
   ]
  },
  {
   "cell_type": "code",
   "execution_count": null,
   "metadata": {
    "colab": {
     "base_uri": "https://localhost:8080/"
    },
    "executionInfo": {
     "elapsed": 419,
     "status": "ok",
     "timestamp": 1727323313446,
     "user": {
      "displayName": "Punisher",
      "userId": "05926598485535198845"
     },
     "user_tz": -330
    },
    "id": "7hQGNpbZBp53",
    "outputId": "44146284-4a01-4f35-94e8-a10c05ed7434"
   },
   "outputs": [
    {
     "name": "stdout",
     "output_type": "stream",
     "text": [
      "Binary operators work element wise: [0 0 6 8]\n"
     ]
    }
   ],
   "source": [
    "a = np.array([ 1, 2, 3, 4])\n",
    "b = np.array([-1,-2, 3, 4])\n",
    "print(f\"Binary operators work element wise: {a + b}\")"
   ]
  },
  {
   "cell_type": "code",
   "execution_count": null,
   "metadata": {
    "colab": {
     "base_uri": "https://localhost:8080/"
    },
    "executionInfo": {
     "elapsed": 401,
     "status": "ok",
     "timestamp": 1727323317293,
     "user": {
      "displayName": "Punisher",
      "userId": "05926598485535198845"
     },
     "user_tz": -330
    },
    "id": "pwpdCSmdBzhk",
    "outputId": "83ffc174-62b9-48f2-9540-27333a904615"
   },
   "outputs": [
    {
     "name": "stdout",
     "output_type": "stream",
     "text": [
      "The error message you'll see is:\n",
      "operands could not be broadcast together with shapes (4,) (2,) \n"
     ]
    }
   ],
   "source": [
    "c = np.array([1, 2])\n",
    "try:\n",
    "  d = a + c\n",
    "except Exception as e:\n",
    "    print(\"The error message you'll see is:\")\n",
    "    print(e)\n"
   ]
  },
  {
   "cell_type": "code",
   "execution_count": null,
   "metadata": {
    "colab": {
     "base_uri": "https://localhost:8080/"
    },
    "executionInfo": {
     "elapsed": 409,
     "status": "ok",
     "timestamp": 1727323319509,
     "user": {
      "displayName": "Punisher",
      "userId": "05926598485535198845"
     },
     "user_tz": -330
    },
    "id": "jh_tTtxMB8f8",
    "outputId": "61e35b61-73e2-4f85-acd7-5a1f2f1507eb"
   },
   "outputs": [
    {
     "name": "stdout",
     "output_type": "stream",
     "text": [
      "b = 5 * a : [ 5 10 15 20]\n"
     ]
    }
   ],
   "source": [
    "a = np.array([1, 2, 3, 4])\n",
    "# multiply a by a scalar b = 5 * a\n",
    "b=5*a\n",
    "print(f\"b = 5 * a : {b}\")"
   ]
  },
  {
   "cell_type": "code",
   "execution_count": null,
   "metadata": {
    "colab": {
     "base_uri": "https://localhost:8080/"
    },
    "executionInfo": {
     "elapsed": 642,
     "status": "ok",
     "timestamp": 1727323329661,
     "user": {
      "displayName": "Punisher",
      "userId": "05926598485535198845"
     },
     "user_tz": -330
    },
    "id": "6YZCK-ewCCno",
    "outputId": "9c8fb786-a2ea-4c19-deb3-051ea8b639f6"
   },
   "outputs": [
    {
     "name": "stdout",
     "output_type": "stream",
     "text": [
      "my_dot(a, b) = 24\n"
     ]
    }
   ],
   "source": [
    "def my_dot(a, b):\n",
    "  x=0\n",
    "  for i in range(a.shape[0]):\n",
    "    x = x + a[i] * b[i]\n",
    "  return x\n",
    "# test 1-D\n",
    "a = np.array([1, 2, 3, 4])\n",
    "b = np.array([-1, 4, 3, 2])\n",
    "print(f\"my_dot(a, b) = {my_dot(a, b)}\")"
   ]
  },
  {
   "cell_type": "code",
   "execution_count": null,
   "metadata": {
    "colab": {
     "base_uri": "https://localhost:8080/"
    },
    "executionInfo": {
     "elapsed": 404,
     "status": "ok",
     "timestamp": 1727323334890,
     "user": {
      "displayName": "Punisher",
      "userId": "05926598485535198845"
     },
     "user_tz": -330
    },
    "id": "80jo0OdBCkBx",
    "outputId": "edcd7e3a-d8f1-4699-d890-2445e0d8481b"
   },
   "outputs": [
    {
     "name": "stdout",
     "output_type": "stream",
     "text": [
      "NumPy 1-D np.dot(a, b) = 24, np.dot(a, b).shape = () \n",
      "NumPy 1-D np.dot(b, a) = 24, np.dot(a, b).shape = () \n"
     ]
    }
   ],
   "source": [
    "a = np.array([1, 2, 3, 4])\n",
    "b = np.array([-1, 4, 3, 2])\n",
    "c = np.dot(a, b)\n",
    "print(f\"NumPy 1-D np.dot(a, b) = {c}, np.dot(a, b).shape = {c.shape} \")\n",
    "c = np.dot(b, a)\n",
    "print(f\"NumPy 1-D np.dot(b, a) = {c}, np.dot(a, b).shape = {c.shape} \")"
   ]
  },
  {
   "cell_type": "code",
   "execution_count": null,
   "metadata": {
    "colab": {
     "base_uri": "https://localhost:8080/"
    },
    "executionInfo": {
     "elapsed": 4955,
     "status": "ok",
     "timestamp": 1727323343089,
     "user": {
      "displayName": "Punisher",
      "userId": "05926598485535198845"
     },
     "user_tz": -330
    },
    "id": "79UGkEo2CscT",
    "outputId": "3e8c4f21-91f7-4b32-b787-fc2b8b93294d"
   },
   "outputs": [
    {
     "name": "stdout",
     "output_type": "stream",
     "text": [
      "np.dot(a, b) =  2501072.5817\n",
      "Vectorized version duration: 12.8670 ms \n",
      "my_dot(a, b) =  2501072.5817\n",
      "loop version duration: 4310.8428 ms \n"
     ]
    }
   ],
   "source": [
    "np.random.seed(1)\n",
    "a = np.random.rand(10000000)  # very large arrays\n",
    "b = np.random.rand(10000000)\n",
    "tic = time.time()  # capture start time\n",
    "c = np.dot(a, b)\n",
    "toc = time.time()  # capture end time\n",
    "print(f\"np.dot(a, b) =  {c:.4f}\")\n",
    "print(f\"Vectorized version duration: {1000*(toc-tic):.4f} ms \")\n",
    "tic = time.time()  # capture start time\n",
    "c = my_dot(a,b)\n",
    "toc = time.time()  # capture end time\n",
    "print(f\"my_dot(a, b) =  {c:.4f}\")\n",
    "print(f\"loop version duration: {1000*(toc-tic):.4f} ms \")\n",
    "del(a)\n",
    "del(b)"
   ]
  },
  {
   "cell_type": "code",
   "execution_count": null,
   "metadata": {
    "colab": {
     "base_uri": "https://localhost:8080/"
    },
    "executionInfo": {
     "elapsed": 7,
     "status": "ok",
     "timestamp": 1727323343089,
     "user": {
      "displayName": "Punisher",
      "userId": "05926598485535198845"
     },
     "user_tz": -330
    },
    "id": "t8GlvP37DHaC",
    "outputId": "8ab39b00-fcdf-4e40-abe2-25a7bd65d02c"
   },
   "outputs": [
    {
     "name": "stdout",
     "output_type": "stream",
     "text": [
      "X[1] has shape (1,)\n",
      "w has shape (1,)\n",
      "c has shape ()\n"
     ]
    }
   ],
   "source": [
    "X = np.array([[1],[2],[3],[4]])\n",
    "w = np.array([2])\n",
    "c = np.dot(X[1], w)\n",
    "print(f\"X[1] has shape {X[1].shape}\")\n",
    "print(f\"w has shape {w.shape}\")\n",
    "print(f\"c has shape {c.shape}\")"
   ]
  },
  {
   "cell_type": "code",
   "execution_count": null,
   "metadata": {
    "colab": {
     "base_uri": "https://localhost:8080/"
    },
    "executionInfo": {
     "elapsed": 6,
     "status": "ok",
     "timestamp": 1727323343089,
     "user": {
      "displayName": "Punisher",
      "userId": "05926598485535198845"
     },
     "user_tz": -330
    },
    "id": "KRmG63HQDSug",
    "outputId": "323044cc-66e8-4c12-f19a-6fd90370e64d"
   },
   "outputs": [
    {
     "name": "stdout",
     "output_type": "stream",
     "text": [
      "a shape = (1, 5), a = [[0. 0. 0. 0. 0.]]\n",
      "a shape = (2, 1), a = [[0.]\n",
      " [0.]]\n",
      "a shape = (1, 1), a = [[0.44236513]]\n"
     ]
    }
   ],
   "source": [
    "a = np.zeros((1, 5))\n",
    "print(f\"a shape = {a.shape}, a = {a}\")\n",
    "a = np.zeros((2, 1))\n",
    "print(f\"a shape = {a.shape}, a = {a}\")\n",
    "a = np.random.random_sample((1, 1))\n",
    "print(f\"a shape = {a.shape}, a = {a}\")"
   ]
  },
  {
   "cell_type": "code",
   "execution_count": null,
   "metadata": {
    "colab": {
     "base_uri": "https://localhost:8080/"
    },
    "executionInfo": {
     "elapsed": 2,
     "status": "ok",
     "timestamp": 1727323344551,
     "user": {
      "displayName": "Punisher",
      "userId": "05926598485535198845"
     },
     "user_tz": -330
    },
    "id": "JgEqIn3zDgE6",
    "outputId": "f3f6a17b-df76-4ee8-8f75-b76c202cd388"
   },
   "outputs": [
    {
     "name": "stdout",
     "output_type": "stream",
     "text": [
      " a shape = (3, 1) ,np.array: a = [[5]\n",
      " [4]\n",
      " [3]]\n",
      " a shape = (3, 1), np.array: a = [[5]\n",
      " [4]\n",
      " [3]]\n"
     ]
    }
   ],
   "source": [
    "a = np.array([[5], [4], [3]])\n",
    "print(f\" a shape = {a.shape} ,np.array: a = {a}\")\n",
    "a = np.array([[5], [4], [3]]); #into separate rows\n",
    "print(f\" a shape = {a.shape}, np.array: a = {a}\")"
   ]
  },
  {
   "cell_type": "code",
   "execution_count": null,
   "metadata": {
    "colab": {
     "base_uri": "https://localhost:8080/",
     "height": 157
    },
    "executionInfo": {
     "elapsed": 399,
     "status": "ok",
     "timestamp": 1727323347729,
     "user": {
      "displayName": "Punisher",
      "userId": "05926598485535198845"
     },
     "user_tz": -330
    },
    "id": "s-Zf43OdD13b",
    "outputId": "c0705b5a-a3b0-4221-c472-765244a23b9d"
   },
   "outputs": [
    {
     "name": "stdout",
     "output_type": "stream",
     "text": [
      "a.shape: (3, 2), \n",
      "a= [[0 1]\n",
      " [2 3]\n",
      " [4 5]]\n",
      "\n",
      "a[2,0].shape:(), a[2,0] = 4,type(a[2,0]) = <class 'numpy.int64'> Accessing an element returns a scalar\n",
      "\n"
     ]
    },
    {
     "data": {
      "application/vnd.google.colaboratory.intrinsic+json": {
       "type": "string"
      },
      "text/plain": [
       "\"a[2].shape:(2,), a[2] = [4 5], type(a[2]) = <class 'numpy.ndarray'>\""
      ]
     },
     "execution_count": 22,
     "metadata": {},
     "output_type": "execute_result"
    }
   ],
   "source": [
    "a = np.arange(6).reshape(-1, 2)\n",
    "#reshape is a convenient way to create matrices\n",
    "print(f\"a.shape: {a.shape}, \\na= {a}\")\n",
    "#access an element\n",
    "print(f\"\\na[2,0].shape:{a[2, 0].shape}, a[2,0] = {a[2, 0]},type(a[2,0]) = {type(a[2, 0])} Accessing an element returns a scalar\\n\")\n",
    "#access a row print\n",
    "(f\"a[2].shape:{a[2].shape}, a[2] = {a[2]}, type(a[2]) = {type(a[2])}\")"
   ]
  },
  {
   "cell_type": "code",
   "execution_count": null,
   "metadata": {
    "colab": {
     "base_uri": "https://localhost:8080/"
    },
    "executionInfo": {
     "elapsed": 389,
     "status": "ok",
     "timestamp": 1727323351190,
     "user": {
      "displayName": "Punisher",
      "userId": "05926598485535198845"
     },
     "user_tz": -330
    },
    "id": "k3BtRGlsEOXM",
    "outputId": "85fac38e-998f-4ffb-f3ff-513d90424e7f"
   },
   "outputs": [
    {
     "name": "stdout",
     "output_type": "stream",
     "text": [
      "[[0 1]\n",
      " [2 3]\n",
      " [4 5]]\n",
      "[[0 1]\n",
      " [2 3]\n",
      " [4 5]]\n"
     ]
    }
   ],
   "source": [
    "a = np.arange(6).reshape(-1, 2)\n",
    "print(a)\n",
    "a = np.arange(6).reshape(3, 2)\n",
    "print(a)"
   ]
  },
  {
   "cell_type": "code",
   "execution_count": null,
   "metadata": {
    "colab": {
     "base_uri": "https://localhost:8080/"
    },
    "executionInfo": {
     "elapsed": 386,
     "status": "ok",
     "timestamp": 1727323354239,
     "user": {
      "displayName": "Punisher",
      "userId": "05926598485535198845"
     },
     "user_tz": -330
    },
    "id": "180steTpEdjR",
    "outputId": "2dbbf6ac-3116-4953-9a04-7cee784037ef"
   },
   "outputs": [
    {
     "name": "stdout",
     "output_type": "stream",
     "text": [
      "a = \n",
      "[[ 0  1  2  3  4  5  6  7  8  9]\n",
      " [10 11 12 13 14 15 16 17 18 19]]\n",
      "a[0, 2:7:1] =  [2 3 4 5 6] , a[0, 2:7:1].shape = (5,) a 1-D array\n",
      "a[:, 2:7:1] = \n",
      " [[ 2  3  4  5  6]\n",
      " [12 13 14 15 16]] , a[:, 2:7:1].shape = (2, 5) a 2-D array\n",
      "a[:,:] = \n",
      " [[ 0  1  2  3  4  5  6  7  8  9]\n",
      " [10 11 12 13 14 15 16 17 18 19]] , a[:,:].shape = (2, 10)\n",
      "a[1,:] =  [10 11 12 13 14 15 16 17 18 19] ,a[1,:].shape = (10,) a 1-D array\n",
      "a[1]=  [10 11 12 13 14 15 16 17 18 19] , a[1].shape = (10,) a 1-D array\n"
     ]
    }
   ],
   "source": [
    "#vector 2-D slicing operations\n",
    "a = np.arange(20).reshape(-1, 10); print(f\"a = \\n{a}\")\n",
    "#access 5 consecutive elements (start:stop:step)\n",
    "print(\"a[0, 2:7:1] = \", a[0, 2:7:1], \", a[0, 2:7:1].shape =\", a[0, 2:7:1].shape, \"a 1-D array\")\n",
    "#access 5 consecutive elements (start:stop:step) in two rows\n",
    "print(\"a[:, 2:7:1] = \\n\", a[:, 2:7:1], \", a[:, 2:7:1].shape =\", a[:, 2:7:1].shape, \"a 2-D array\")\n",
    "# access all elements\n",
    "print(\"a[:,:] = \\n\", a[:,:], \", a[:,:].shape =\", a[:,:].shape)\n",
    "# access all elements in one row (very common usage)\n",
    "print(\"a[1,:] = \", a[1,:], \",a[1,:].shape =\", a[1,:].shape, \"a 1-D array\")\n",
    "# same as\n",
    "print(\"a[1]= \", a[1],\", a[1].shape =\", a[1].shape, \"a 1-D array\")"
   ]
  }
 ],
 "metadata": {
  "colab": {
   "authorship_tag": "ABX9TyOhwi2UhZ+6BRxzVpkHaBfK",
   "provenance": []
  },
  "kernelspec": {
   "display_name": "Python 3 (ipykernel)",
   "language": "python",
   "name": "python3"
  },
  "language_info": {
   "codemirror_mode": {
    "name": "ipython",
    "version": 3
   },
   "file_extension": ".py",
   "mimetype": "text/x-python",
   "name": "python",
   "nbconvert_exporter": "python",
   "pygments_lexer": "ipython3",
   "version": "3.11.3"
  }
 },
 "nbformat": 4,
 "nbformat_minor": 1
}
