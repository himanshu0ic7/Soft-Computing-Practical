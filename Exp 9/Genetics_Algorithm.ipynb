{
 "cells": [
  {
   "cell_type": "markdown",
   "metadata": {},
   "source": [
    "<h1><center>Experiment: 9</center></h1>"
   ]
  },
  {
   "cell_type": "markdown",
   "metadata": {},
   "source": [
    "# Aim:\n",
    "Implement a Genetic Algorithm to optimize a solution by evolving a population through selection, crossover, and mutation over multiple generations."
   ]
  },
  {
   "cell_type": "markdown",
   "metadata": {},
   "source": [
    "# Theory:\n",
    "The experiment involves implementing a Genetic Algorithm (GA) for solving optimization problems. GA mimics natural evolution processes, using concepts like chromosomes (solutions), genes (solution components), and populations (sets of chromosomes). The process involves:\n",
    "\n",
    "Initialization: Generate an initial population of potential solutions.\n",
    "Fitness Evaluation: Measure how good each solution is using a fitness function.\n",
    "Selection: Choose the best solutions based on fitness for reproduction.\n",
    "Crossover: Combine genes from two parent solutions to produce new offspring using single-point crossover.\n",
    "Mutation: Introduce random changes to maintain diversity.\n",
    "Termination: Repeat the process until a stopping criterion is met, such as achieving an optimal solution or reaching a set number of generations.\n",
    "This method is effective for solving complex problems by evolving solutions over generations."
   ]
  },
  {
   "cell_type": "code",
   "execution_count": 1,
   "metadata": {
    "id": "-lYwFrCB_tup"
   },
   "outputs": [],
   "source": [
    "import numpy as np\n",
    "def single_point_crossover(A, B, x):\n",
    "    # Perform single-point crossover at point x\n",
    "    A_new = np.append(A[:x], B[x:])\n",
    "    B_new = np.append(B[:x], A[x:])\n",
    "    return A_new, B_new\n",
    "\n",
    "import random\n",
    "\n",
    "def swap_mutation(chromosome):\n",
    "    i, j = random.sample(range(len(chromosome)), 2)  # Randomly select two different indices\n",
    "    chromosome[i], chromosome[j] = chromosome[j], chromosome[i]  # Swap their values\n",
    "    return chromosome"
   ]
  },
  {
   "cell_type": "code",
   "execution_count": 2,
   "metadata": {
    "colab": {
     "base_uri": "https://localhost:8080/"
    },
    "id": "uvAexTB4_v7Z",
    "outputId": "657314c9-ca1a-4f87-ecd0-ba7e8bc40b05"
   },
   "outputs": [
    {
     "name": "stdout",
     "output_type": "stream",
     "text": [
      "Enter 6 chromosomes, each with 4 genes (0-30):\n",
      "Chromosome 1 (4 genes): 12 5 23 8\n",
      "Chromosome 2 (4 genes): 2 21 18 3\n",
      "Chromosome 3 (4 genes): 10 4 13 14\n",
      "Chromosome 4 (4 genes): 20 1 10 6\n",
      "Chromosome 5 (4 genes): 1 4 13 19\n",
      "Chromosome 6 (4 genes): 20 5 17 1\n",
      "\n",
      "Original Population:\n",
      " [[12  5 23  8]\n",
      " [ 2 21 18  3]\n",
      " [10  4 13 14]\n",
      " [20  1 10  6]\n",
      " [ 1  4 13 19]\n",
      " [20  5 17  1]]\n",
      "Fitness Values:\n",
      " [0.0106383  0.01234568 0.01190476 0.0212766  0.01052632 0.01785714]\n",
      "Selected Population:\n",
      " [[12  5 23  8]\n",
      " [ 2 21 18  3]\n",
      " [ 2 21 18  3]\n",
      " [ 1  4 13 19]\n",
      " [20  5 17  1]\n",
      " [ 2 21 18  3]]\n",
      "Crossover Population:\n",
      " [[ 3 21 18 12]\n",
      " [ 2 23  5  8]\n",
      " [ 2 19 18 21]\n",
      " [ 1 13  4  3]\n",
      " [20 21  3 18]\n",
      " [ 2  5  1 17]]\n",
      "Mutated Population:\n",
      " [[ 3 21 18 12]\n",
      " [ 2 23  5  8]\n",
      " [ 2 19 18 21]\n",
      " [ 1 13  4  3]\n",
      " [20 21  3 18]\n",
      " [ 2  5  1 17]]\n"
     ]
    }
   ],
   "source": [
    "def objective_function(chromosome):\n",
    "    # Calculate the objective function\n",
    "    return abs((chromosome[0] + 2 * chromosome[1] + 3 * chromosome[2] + 4 * chromosome[3]) - 30)\n",
    "\n",
    "def calculate_fitness(population):\n",
    "    # Calculate fitness based on the objective function\n",
    "    return np.array([1 / (1 + objective_function(chromosome)) for chromosome in population])\n",
    "\n",
    "def roulette_wheel_selection(population, fitness):\n",
    "    # Calculate cumulative probabilities\n",
    "    total_fitness = np.sum(fitness)\n",
    "    probabilities = fitness / total_fitness\n",
    "    cumulative_probabilities = np.cumsum(probabilities)\n",
    "\n",
    "    # Perform roulette wheel selection\n",
    "    selected_population = []\n",
    "    for _ in range(len(population)):\n",
    "        r = np.random.rand()  # Random value between 0 and 1\n",
    "        for i, cumulative_probability in enumerate(cumulative_probabilities):\n",
    "            if r <= cumulative_probability:\n",
    "                selected_population.append(population[i])\n",
    "                break\n",
    "\n",
    "    return np.array(selected_population)\n",
    "\n",
    "def single_point_crossover(A, B, x):\n",
    "    # Perform single-point crossover at point x\n",
    "    A_new = np.append(A[:x], B[x:])\n",
    "    B_new = np.append(B[:x], A[x:])\n",
    "    return A_new, B_new\n",
    "\n",
    "# Input population\n",
    "population_size = 6\n",
    "chromosome_length = 4\n",
    "population = []\n",
    "print(f\"Enter {population_size} chromosomes, each with {chromosome_length} genes (0-30):\")\n",
    "for i in range(population_size):\n",
    "    while True:\n",
    "        genes = list(map(int, input(f\"Chromosome {i + 1} (4 genes): \").split()))\n",
    "        if len(genes) == chromosome_length and all(0 <= g <= 30 for g in genes):\n",
    "            population.append(genes)\n",
    "            break\n",
    "        else:\n",
    "            print(\"Please enter exactly 4 genes, each between 0 and 30.\")\n",
    "\n",
    "population = np.array(population)\n",
    "\n",
    "# Calculate fitness for each individual\n",
    "fitness = calculate_fitness(population)\n",
    "\n",
    "# Perform selection using roulette wheel\n",
    "selected_population = roulette_wheel_selection(population, fitness)\n",
    "\n",
    "# Perform single-point crossover on selected population (pairwise crossover)\n",
    "crossover_population = []\n",
    "for i in range(0, len(selected_population), 2):\n",
    "    if i+1 < len(selected_population):\n",
    "        parent1 = selected_population[i]\n",
    "        parent2 = selected_population[i+1]\n",
    "        # Choose a random crossover point (between 1 and chromosome_length - 1)\n",
    "        crossover_point = np.random.randint(1, chromosome_length)\n",
    "        child1, child2 = single_point_crossover(parent1, parent2, crossover_point)\n",
    "        crossover_population.append(child1)\n",
    "        crossover_population.append(child2)\n",
    "    else:\n",
    "        crossover_population.append(selected_population[i])  # In case of an odd number, keep the last individual\n",
    "\n",
    "crossover_population = np.array(crossover_population)\n",
    "\n",
    "# Perform mutation on the crossover population\n",
    "Mutated_population = []\n",
    "for i in range(0, len(crossover_population)):\n",
    "    Mutated_population.append(swap_mutation(crossover_population[i]))\n",
    "\n",
    "Mutated_population = np.array(Mutated_population)\n",
    "\n",
    "# Display results\n",
    "print(\"\\nOriginal Population:\\n\", population)\n",
    "print(\"Fitness Values:\\n\", fitness)\n",
    "print(\"Selected Population:\\n\", selected_population)\n",
    "print(\"Crossover Population:\\n\", crossover_population)\n",
    "print(\"Mutated Population:\\n\", Mutated_population)"
   ]
  },
  {
   "cell_type": "code",
   "execution_count": null,
   "metadata": {
    "id": "n9W6QnFs_3gQ"
   },
   "outputs": [],
   "source": []
  }
 ],
 "metadata": {
  "colab": {
   "provenance": []
  },
  "kernelspec": {
   "display_name": "Python 3 (ipykernel)",
   "language": "python",
   "name": "python3"
  },
  "language_info": {
   "codemirror_mode": {
    "name": "ipython",
    "version": 3
   },
   "file_extension": ".py",
   "mimetype": "text/x-python",
   "name": "python",
   "nbconvert_exporter": "python",
   "pygments_lexer": "ipython3",
   "version": "3.11.3"
  }
 },
 "nbformat": 4,
 "nbformat_minor": 1
}
