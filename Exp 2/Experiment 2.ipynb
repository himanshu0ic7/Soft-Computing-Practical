{
 "cells": [
  {
   "cell_type": "markdown",
   "metadata": {},
   "source": [
    "<h1><center>LAB 2</center></h1>"
   ]
  },
  {
   "cell_type": "markdown",
   "metadata": {
    "id": "bct4ZBpiULQ7"
   },
   "source": [
    "## Aim: To design a fuzzy control system\n",
    "## Theory:\n",
    "```\n",
    "FLC: Speed control of a vehicle\n",
    "Let two fuzzy inputs (speed difference (SD) and acceleration (A)) and one fuzzy output throttle control (TC) be there.\n",
    "X: Universe of discourse [0,240]\n",
    "Partitions:\n",
    "NL: Open left MF (a= 30, b = 60)\n",
    "NM: Traingular (a=30, b =60, c = 90)\n",
    "NS: Traingular (a =60,b =90, c = 120)\n",
    "ZE: Traingular (a =90,b =120, c = 150)\n",
    "PS: Traingular (a = 120,b =150, c = 180)\n",
    "PM: Traingular (a = 150, b = 180, c = 210)\n",
    "PL: Open right (a = 180, b = 210)\n",
    "\n",
    "Rules\n",
    "R1: if SD is NL and A is ZE then TC is PL\n",
    "R2: if SD is ZE and A is NL then TC is PL\n",
    "R3: if SD is NM and A is ZE then TC is PM\n",
    "R4: if SD is NS and A is PS then TC is PS\n",
    "R5: if SD is PS and A is NS then TC is NS\n",
    "R6: if SD is PL and A is ZE then TC is NL\n",
    "R7: if SD is ZE and A is NS then TC is PS\n",
    "R8: if SD is ZE and A is NM then TC is PM\n",
    "```\n",
    "\n",
    "\n"
   ]
  },
  {
   "cell_type": "code",
   "execution_count": null,
   "metadata": {
    "colab": {
     "base_uri": "https://localhost:8080/"
    },
    "executionInfo": {
     "elapsed": 15279,
     "status": "ok",
     "timestamp": 1723093817683,
     "user": {
      "displayName": "Punisher",
      "userId": "05926598485535198845"
     },
     "user_tz": -330
    },
    "id": "JE3xyl0IPawo",
    "outputId": "1024e04e-cbca-41a9-bcfa-1ae81f44bbe8"
   },
   "outputs": [
    {
     "name": "stdout",
     "output_type": "stream",
     "text": [
      "Enter the speed: 80\n",
      "Enter the acceleration: 105\n"
     ]
    }
   ],
   "source": [
    "import numpy as np\n",
    "speed=int(input(\"Enter the speed: \"))\n",
    "acceleration=int(input(\"Enter the acceleration: \"))"
   ]
  },
  {
   "cell_type": "code",
   "execution_count": null,
   "metadata": {
    "id": "ZMTpjcSjRd89"
   },
   "outputs": [],
   "source": [
    "def openLeft(x,alpha,beta):\n",
    "  if x<alpha:\n",
    "    return 1\n",
    "  elif alpha<x<beta:\n",
    "    return (beta-x)/(beta-alpha)\n",
    "  else:\n",
    "    return 0\n",
    "def openRight(x,alpha,beta):\n",
    "  if x<alpha:\n",
    "    return 0\n",
    "  elif alpha<x<beta:\n",
    "    return (x-alpha)/(beta-alpha)\n",
    "  else:\n",
    "    return 1\n",
    "def triangular(x,a,b,c):\n",
    "  return max(min((x-a)/(b-a),(c-x)/(c-b)),0)"
   ]
  },
  {
   "cell_type": "code",
   "execution_count": null,
   "metadata": {
    "id": "pUPhCXjtUI1t"
   },
   "outputs": [],
   "source": [
    "def partition(x):\n",
    "    NL = 0;  NM = 0; NS = 0; ZE = 0; PS = 0; PM = 0; PL = 0\n",
    "    if x> 0 and x<60:\n",
    "        NL = openLeft(x,30,60)\n",
    "    if x> 30 and x<90:\n",
    "        NM = triangular(x,30,60,90)\n",
    "    if x> 60 and x<120:\n",
    "        NS = triangular(x,60,90,120)\n",
    "    if x> 90 and x<150:\n",
    "        ZE = triangular(x,90,120,150)\n",
    "    if x> 120 and x<180:\n",
    "        PS = triangular(x,120,150,180)\n",
    "    if x> 150 and x<210:\n",
    "        PM = triangular(x,120,150,180)\n",
    "    if x> 180 and x<240:\n",
    "        PL = openRight(x,180,210)\n",
    "    return NL,NM,NS,ZE,PS,PM,PL"
   ]
  },
  {
   "cell_type": "code",
   "execution_count": null,
   "metadata": {
    "colab": {
     "base_uri": "https://localhost:8080/"
    },
    "executionInfo": {
     "elapsed": 6,
     "status": "ok",
     "timestamp": 1723093817684,
     "user": {
      "displayName": "Punisher",
      "userId": "05926598485535198845"
     },
     "user_tz": -330
    },
    "id": "0apomL6DU4xU",
    "outputId": "96dfe057-3d94-4e1d-b10d-9d5af6a129eb"
   },
   "outputs": [
    {
     "name": "stdout",
     "output_type": "stream",
     "text": [
      "The fuzzy values of the crisp inputs\n",
      "['NL', 'NM', 'NS', 'ZE', 'PS', 'PM', 'PLSD']\n",
      "[[0.   0.33 0.67 0.   0.   0.   0.  ]\n",
      " [0.   0.   0.5  0.5  0.   0.   0.  ]]\n"
     ]
    }
   ],
   "source": [
    "# Getting fuzzy values for all the inputs for all the fuzzy sets\n",
    "NLSD,NMSD,NSSD,ZESD,PSSD,PMSD,PLSD = partition(speed)\n",
    "NLAC,NMAC,NSAC,ZEAC,PSAC,PMAC,PLAC = partition(acceleration)\n",
    "\n",
    "# Display the fuzzy values for all fuzzy sets\n",
    "output = [(NLSD,NMSD,NSSD,ZESD,PSSD,PMSD,PLSD),\n",
    "          (NLAC,NMAC,NSAC,ZEAC,PSAC,PMAC,PLAC)]\n",
    "print(\"The fuzzy values of the crisp inputs\")\n",
    "print([\"NL\",\"NM\",\"NS\",\"ZE\",\"PS\",\"PM\",\"PLSD\"])\n",
    "print(np.round(output,2))"
   ]
  },
  {
   "cell_type": "code",
   "execution_count": null,
   "metadata": {
    "id": "n1plkBpmVAer"
   },
   "outputs": [],
   "source": [
    "# Rules implementation\n",
    "def compare(TC1, TC2):\n",
    "    if TC1 == 0:\n",
    "        return TC2\n",
    "    if TC2 == 0:\n",
    "        return TC1\n",
    "    return min(TC1, TC2)"
   ]
  },
  {
   "cell_type": "code",
   "execution_count": null,
   "metadata": {
    "id": "QOE2IUIzVk47"
   },
   "outputs": [],
   "source": [
    "def rule(NLSD,NMSD,NSSD,ZESD,PSSD,PMSD,PLSD,NLAC,NMAC,NSAC,ZEAC,PSAC,PMAC,PLAC):\n",
    "    PLTC1 = min(NLSD,ZEAC)\n",
    "    PLTC2 = min(ZESD,NLAC)\n",
    "    PLTC = compare(PLTC1, PLTC2)\n",
    "\n",
    "    PMTC1 = min(NMSD,ZEAC)\n",
    "    PMTC2 = min(ZESD,NMAC)\n",
    "    PMTC = compare(PMTC1, PMTC2)\n",
    "\n",
    "    PSTC1 = min(NSSD,PSAC)\n",
    "    PSTC2 = min(ZESD,NSAC)\n",
    "    PSTC = compare(PSTC1, PSTC2)\n",
    "    NSTC = min(PSSD,NSAC)\n",
    "    NLTC = min(PLSD,ZEAC)\n",
    "\n",
    "    return PLTC, PMTC, PSTC, NSTC, NLTC;"
   ]
  },
  {
   "cell_type": "code",
   "execution_count": null,
   "metadata": {
    "colab": {
     "base_uri": "https://localhost:8080/"
    },
    "executionInfo": {
     "elapsed": 5,
     "status": "ok",
     "timestamp": 1723093817684,
     "user": {
      "displayName": "Punisher",
      "userId": "05926598485535198845"
     },
     "user_tz": -330
    },
    "id": "4iPIlJrIOnQB",
    "outputId": "83c18701-0349-4c86-ad24-3db855386568"
   },
   "outputs": [
    {
     "name": "stdout",
     "output_type": "stream",
     "text": [
      "The fuzzy output: \n",
      "['PLTC', 'PMTC', 'PSTC', 'NSTC', 'NLTC']\n",
      "[[0.   0.33 0.   0.   0.  ]]\n"
     ]
    }
   ],
   "source": [
    "PLTC, PMTC, PSTC, NSTC, NLTC = rule(NLSD,NMSD,NSSD,ZESD,PSSD,PMSD,PLSD,NLAC,NMAC,NSAC,ZEAC,PSAC,PMAC,PLAC)\n",
    "# Display the fuzzy values for all rules\n",
    "outPutRules = [[PLTC, PMTC, PSTC, NSTC, NLTC ]]\n",
    "print(\"The fuzzy output: \")\n",
    "print([\"PLTC\", \"PMTC\", \"PSTC\", \"NSTC\", \"NLTC\"])\n",
    "print(np.round(outPutRules,2))"
   ]
  },
  {
   "cell_type": "code",
   "execution_count": null,
   "metadata": {
    "id": "y7aGBnotOtn7"
   },
   "outputs": [],
   "source": [
    "# De-fuzzyfication\n",
    "def areaTR(mu, a,b,c):# Area of trapezoid\n",
    "    x1 = mu*(b-a) + a #First intersection point on the triangle side\n",
    "    x2 = c - mu*(c-b)\n",
    "    d1 = (c-a); d2 = x2-x1\n",
    "    a = (1/2)*mu*(d1 + d2)\n",
    "    return a # Returning area\n",
    "\n",
    "def areaOL(mu, alpha, beta): #Area of openLeft\n",
    "    xOL = beta -mu*(beta - alpha)\n",
    "    return 1/2*mu*(beta+ xOL), beta/2 # this will also be a trapeziod and second returning value will be the x coordinate of the figure\n",
    "\n",
    "def areaOR(mu, alpha, beta): #Area of openRight\n",
    "    xOR = (beta - alpha)*mu + alpha\n",
    "    aOR = (1/2)*mu*((240 - alpha) + (240 -xOR))\n",
    "    return aOR, (240 - alpha)/2 + alpha # this will also be a trapeziod and second returning value will be the x coordinate of the figure\n",
    "\n",
    "def defuzzyfication(PLTC, PMTC, PSTC, NSTC, NLTC):\n",
    "    areaPL = 0; areaPM = 0; areaPS = 0; areaNS = 0; areaNL = 0;\n",
    "    cPL = 0; cPM = 0; cPS = 0; cNS = 0; cNL = 0;\n",
    "\n",
    "    if PLTC != 0:\n",
    "        #areaPL, cPL = areaOR(PLTC, 180, 210)\n",
    "        areaPL, cPL = areaOR(PLTC, 180, 210)\n",
    "\n",
    "    if PMTC != 0:\n",
    "        areaPM = areaTR(PMTC, 150, 180, 210)\n",
    "        cPM = 180\n",
    "\n",
    "    if PSTC != 0:\n",
    "        areaPS = areaTR(PSTC, 120, 150, 180)\n",
    "        cPS = 150\n",
    "\n",
    "    if NSTC != 0:\n",
    "        areaNS = areaTR(NSTC, 60, 90, 120)\n",
    "        cNS = 90\n",
    "\n",
    "    if NLTC !=0:\n",
    "        areaNL, cNL = areaOL(NLTC, 30, 60)\n",
    "\n",
    "    numerator = areaPL*cPL + areaPM*cPM + areaPS*cPS + areaNS*cNS + areaNL*cNL\n",
    "    denominator = areaPL + areaPM + areaPS + areaNS + areaNL\n",
    "    if denominator ==0:\n",
    "        print(\"No rules exist to give the result\")\n",
    "        return 0\n",
    "    else:\n",
    "        crispOutput = numerator/denominator\n",
    "        return crispOutput"
   ]
  },
  {
   "cell_type": "code",
   "execution_count": null,
   "metadata": {
    "colab": {
     "base_uri": "https://localhost:8080/"
    },
    "executionInfo": {
     "elapsed": 3,
     "status": "ok",
     "timestamp": 1723093817684,
     "user": {
      "displayName": "Punisher",
      "userId": "05926598485535198845"
     },
     "user_tz": -330
    },
    "id": "_nWr9HZSOxZ5",
    "outputId": "19017b7f-a03c-4728-c918-48422c051af4"
   },
   "outputs": [
    {
     "name": "stdout",
     "output_type": "stream",
     "text": [
      "\n",
      "The crisp TC value is:  180.0\n"
     ]
    }
   ],
   "source": [
    "crispOutputFinal = defuzzyfication(PLTC, PMTC, PSTC, NSTC, NLTC)\n",
    "\n",
    "if crispOutputFinal !=0:\n",
    "    print(\"The crisp TC value is: \", crispOutputFinal)"
   ]
  }
 ],
 "metadata": {
  "colab": {
   "authorship_tag": "ABX9TyOasdVwLt94l65dUzFUFPB4",
   "provenance": []
  },
  "kernelspec": {
   "display_name": "Python 3 (ipykernel)",
   "language": "python",
   "name": "python3"
  },
  "language_info": {
   "codemirror_mode": {
    "name": "ipython",
    "version": 3
   },
   "file_extension": ".py",
   "mimetype": "text/x-python",
   "name": "python",
   "nbconvert_exporter": "python",
   "pygments_lexer": "ipython3",
   "version": "3.11.3"
  }
 },
 "nbformat": 4,
 "nbformat_minor": 1
}
